{
 "cells": [
  {
   "cell_type": "code",
   "execution_count": null,
   "metadata": {},
   "outputs": [],
   "source": [
    "#!/Users/matthew/anaconda3/bin/python\n",
    "# edit shebang to python path on nyx"
   ]
  },
  {
   "cell_type": "code",
   "execution_count": null,
   "metadata": {},
   "outputs": [],
   "source": [
    "##############################################################################################\n",
    "#\n",
    "## Fetch XNAT ##\n",
    "#\n",
    "# This script copies all RADCO dicom files on the XNAT server to the rawDicom folder on nyx3,\n",
    "# that do not already exist on nyx3, preserving directory structure\n",
    "# \n",
    "# Matthew Thompson - 9/28/23\n",
    "# mbthompson14@gmail.com\n",
    "#\n",
    "# https://xnat.readthedocs.io/en/latest/index.html\n",
    "#\n",
    "###############################################################################################"
   ]
  },
  {
   "cell_type": "code",
   "execution_count": null,
   "metadata": {},
   "outputs": [],
   "source": [
    "# STEPS\n",
    "#\n",
    "# 1. Setup logger\n",
    "# 2. Setup argument parser\n",
    "#   a. What arguments? debug mode\n",
    "# 3. Define API parameters: URL, username, password\n",
    "# 4. Define target directory on nyx - RADCO rawDicom\n",
    "# 5. Query XNAT to see what subjects/files exist\n",
    "#   a. log files found\n",
    "# 6. Compare XNAT files to files already on nyx\n",
    "# 7. Define files to copy to nyx\n",
    "# 8. Copy relevant folders to nyx, preserving structure\n",
    "#   a. log files copied\n",
    "# 9. Check to make sure files copied properly\n",
    "# 10. Generate list of existing/missing files for relevant subjects?\n",
    "#"
   ]
  },
  {
   "cell_type": "code",
   "execution_count": 1,
   "metadata": {},
   "outputs": [
    {
     "name": "stdout",
     "output_type": "stream",
     "text": [
      "Intel MKL WARNING: Support of Intel(R) Streaming SIMD Extensions 4.2 (Intel(R) SSE4.2) enabled only processors has been deprecated. Intel oneAPI Math Kernel Library 2025.0 will require Intel(R) Advanced Vector Extensions (Intel(R) AVX) instructions.\n",
      "Intel MKL WARNING: Support of Intel(R) Streaming SIMD Extensions 4.2 (Intel(R) SSE4.2) enabled only processors has been deprecated. Intel oneAPI Math Kernel Library 2025.0 will require Intel(R) Advanced Vector Extensions (Intel(R) AVX) instructions.\n"
     ]
    }
   ],
   "source": [
    "# import libraries\n",
    "import argparse\n",
    "import logging\n",
    "import xnat\n",
    "from netrc import netrc"
   ]
  },
  {
   "cell_type": "code",
   "execution_count": null,
   "metadata": {},
   "outputs": [],
   "source": [
    "# parser = argparse.ArgumentParser(\n",
    "#                     prog='Fetch XNAT',\n",
    "#                     description='This script copies all RADCO dicom files on the XNAT server to the rawDicom folder on nyx3, \\\n",
    "#                         that do not already exist on nyx3, preserving directory structure\\n\\nArguments\\nDebug: --log=DEBUG',\n",
    "#                     #epilog='Text at the bottom of help'\n",
    "#                     )\n",
    "\n",
    "# parser.add_argument()"
   ]
  },
  {
   "cell_type": "code",
   "execution_count": 2,
   "metadata": {},
   "outputs": [
    {
     "name": "stderr",
     "output_type": "stream",
     "text": [
      "usage: Fetch XNAT [-h] [-d]\n",
      "Fetch XNAT: error: unrecognized arguments: --ip=127.0.0.1 --stdin=9008 --control=9006 --hb=9005 --Session.signature_scheme=\"hmac-sha256\" --Session.key=b\"b6ce4df2-7eea-403a-8d2b-2cced39a22d2\" --shell=9007 --transport=\"tcp\" --iopub=9009 --f=/Users/matthew/Library/Jupyter/runtime/kernel-v2-64547aAMZnFAmGtCj.json\n"
     ]
    },
    {
     "ename": "SystemExit",
     "evalue": "2",
     "output_type": "error",
     "traceback": [
      "An exception has occurred, use %tb to see the full traceback.\n",
      "\u001b[0;31mSystemExit\u001b[0m\u001b[0;31m:\u001b[0m 2\n"
     ]
    },
    {
     "name": "stderr",
     "output_type": "stream",
     "text": [
      "/Users/matthew/anaconda3/lib/python3.10/site-packages/IPython/core/interactiveshell.py:3516: UserWarning: To exit: use 'exit', 'quit', or Ctrl-D.\n",
      "  warn(\"To exit: use 'exit', 'quit', or Ctrl-D.\", stacklevel=1)\n"
     ]
    }
   ],
   "source": [
    "parser = argparse.ArgumentParser(\n",
    "                    prog='Fetch XNAT',\n",
    "                    description='This script copies all RADCO dicom files on the XNAT server to the rawDicom folder on nyx3, \\\n",
    "                        that do not already exist on nyx3, preserving directory structure')\n",
    "\n",
    "parser.add_argument('-d','--debug', help='display detailed logging info for debugging', action='store_true')\n",
    "args = parser.parse_args()\n",
    "if args.debug:\n",
    "    print('we debugging')\n",
    "else:\n",
    "    print('we not debug')"
   ]
  }
 ],
 "metadata": {
  "kernelspec": {
   "display_name": "base",
   "language": "python",
   "name": "python3"
  },
  "language_info": {
   "codemirror_mode": {
    "name": "ipython",
    "version": 3
   },
   "file_extension": ".py",
   "mimetype": "text/x-python",
   "name": "python",
   "nbconvert_exporter": "python",
   "pygments_lexer": "ipython3",
   "version": "3.10.12"
  },
  "orig_nbformat": 4
 },
 "nbformat": 4,
 "nbformat_minor": 2
}
