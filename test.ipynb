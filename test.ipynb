{
 "cells": [
  {
   "cell_type": "code",
   "execution_count": 2,
   "metadata": {},
   "outputs": [
    {
     "name": "stdout",
     "output_type": "stream",
     "text": [
      "Intel MKL WARNING: Support of Intel(R) Streaming SIMD Extensions 4.2 (Intel(R) SSE4.2) enabled only processors has been deprecated. Intel oneAPI Math Kernel Library 2025.0 will require Intel(R) Advanced Vector Extensions (Intel(R) AVX) instructions.\n",
      "Intel MKL WARNING: Support of Intel(R) Streaming SIMD Extensions 4.2 (Intel(R) SSE4.2) enabled only processors has been deprecated. Intel oneAPI Math Kernel Library 2025.0 will require Intel(R) Advanced Vector Extensions (Intel(R) AVX) instructions.\n"
     ]
    }
   ],
   "source": [
    "import xnat\n",
    "from netrc import netrc"
   ]
  },
  {
   "attachments": {},
   "cell_type": "markdown",
   "metadata": {},
   "source": [
    "https://wiki.xnat.org/display/XAPI/How+To+Download+Files+via+the+XNAT+REST+API\n",
    "\n",
    "/data/projects/TEST/subjects/1/experiments/MR1/scans/ALL/files?format=zip"
   ]
  },
  {
   "attachments": {},
   "cell_type": "markdown",
   "metadata": {},
   "source": [
    "https://xnat.readthedocs.io/en/latest/index.html\n",
    "\n",
    "projects, subjects, experiments, scans, resources, files"
   ]
  },
  {
   "cell_type": "code",
   "execution_count": 10,
   "metadata": {},
   "outputs": [],
   "source": [
    "host = 'https://xnatccn.semel.ucla.edu/'\n",
    "auth = netrc().authenticators(host)\n",
    "auth[1]"
   ]
  },
  {
   "cell_type": "code",
   "execution_count": 5,
   "metadata": {},
   "outputs": [
    {
     "name": "stdout",
     "output_type": "stream",
     "text": [
      "<XNATListing {(XNAT_S04886, RAD22_UCLA_ZP20230130_121_01): <SubjectData RAD22_UCLA_ZP20230130_121_01 (XNAT_S04886)>, (XNAT_S04887, RAD22_COL_ZP20230320_01): <SubjectData RAD22_COL_ZP20230320_01 (XNAT_S04887)>, (XNAT_S04888, RAD22_GSU_ZP20230321_01): <SubjectData RAD22_GSU_ZP20230321_01 (XNAT_S04888)>, (XNAT_S04899, RAD22_COL_AE100-144A-01): <SubjectData RAD22_COL_AE100-144A-01 (XNAT_S04899)>, (XNAT_S04902, RAD22_MGH_BU101-038Aka_01): <SubjectData RAD22_MGH_BU101-038Aka_01 (XNAT_S04902)>, (XNAT_S04903, RAD22_MGH_0527_01): <SubjectData RAD22_MGH_0527_01 (XNAT_S04903)>, (XNAT_S04904, RAD22_GSU_BU099-039AKb_01): <SubjectData RAD22_GSU_BU099-039AKb_01 (XNAT_S04904)>}>\n"
     ]
    }
   ],
   "source": [
    "\n",
    "with xnat.connect(host, auth[0], auth[2]) as session:\n",
    "    radco = session.projects['RADCO']\n",
    "    print(radco.subjects)"
   ]
  },
  {
   "cell_type": "markdown",
   "metadata": {},
   "source": []
  }
 ],
 "metadata": {
  "kernelspec": {
   "display_name": "base",
   "language": "python",
   "name": "python3"
  },
  "language_info": {
   "codemirror_mode": {
    "name": "ipython",
    "version": 3
   },
   "file_extension": ".py",
   "mimetype": "text/x-python",
   "name": "python",
   "nbconvert_exporter": "python",
   "pygments_lexer": "ipython3",
   "version": "3.10.12"
  },
  "orig_nbformat": 4
 },
 "nbformat": 4,
 "nbformat_minor": 2
}
